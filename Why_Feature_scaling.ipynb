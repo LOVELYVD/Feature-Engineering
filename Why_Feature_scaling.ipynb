{
  "nbformat": 4,
  "nbformat_minor": 0,
  "metadata": {
    "colab": {
      "name": "Why Feature scaling.ipynb",
      "provenance": [],
      "authorship_tag": "ABX9TyN4JTik3cgHXHeMqy2CbLRZ",
      "include_colab_link": true
    },
    "kernelspec": {
      "name": "python3",
      "display_name": "Python 3"
    },
    "language_info": {
      "name": "python"
    }
  },
  "cells": [
    {
      "cell_type": "markdown",
      "metadata": {
        "id": "view-in-github",
        "colab_type": "text"
      },
      "source": [
        "<a href=\"https://colab.research.google.com/github/LOVELYVD/Feature-Engineering/blob/main/Why_Feature_scaling.ipynb\" target=\"_parent\"><img src=\"https://colab.research.google.com/assets/colab-badge.svg\" alt=\"Open In Colab\"/></a>"
      ]
    },
    {
      "cell_type": "markdown",
      "source": [
        "Scaling down reduce eucladian distance in case of knn\n",
        "\n",
        "scale down gradiest distance\n",
        "\n",
        "0-1 scale--**uniform scaling or min-max scalin**\n",
        "\n",
        "std normal distri----**std sclar scaling**"
      ],
      "metadata": {
        "id": "nkTHXGOaYYft"
      }
    },
    {
      "cell_type": "markdown",
      "source": [
        "Algorithms which needed scaling:\n",
        "\n",
        "1.**Linear Regression**\n",
        "\n",
        "**Gradient descend**----coeff must converge in global minimum.\n",
        "\n",
        "Scaling down helps to converge coeffiecient quickly\n",
        "\n",
        "\n",
        "2.**eucladean di**st---**K means**  and **KNN**\n",
        "\n",
        "K means is unsupervised technique\n",
        "\n",
        "3.**Deep lEARNING**--GRADIENT DIST\n",
        "\n",
        "CNN--input are images..we apply unit scaling...pixels from [0,255] scaled to [0,1]\n",
        "\n",
        "\n",
        "\n"
      ],
      "metadata": {
        "id": "5v2seyAeYt4U"
      }
    },
    {
      "cell_type": "markdown",
      "source": [
        "**When not to apply Feature Scaling**\n",
        "\n",
        "\n",
        "1.**Decision Tree**\n",
        "\n",
        "2.**Random Forest**\n",
        "\n",
        "3.**Xgboost**\n",
        "\n",
        "\n",
        "These are **ensemble techniques**.\n",
        "\n",
        "In decison tree, branch number remains same"
      ],
      "metadata": {
        "id": "Qz28UqcbZvCu"
      }
    },
    {
      "cell_type": "markdown",
      "source": [
        ""
      ],
      "metadata": {
        "id": "mWhS2y4JaHWl"
      }
    }
  ]
}