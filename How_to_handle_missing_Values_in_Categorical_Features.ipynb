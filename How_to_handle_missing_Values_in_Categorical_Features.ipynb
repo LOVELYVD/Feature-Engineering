{
  "nbformat": 4,
  "nbformat_minor": 0,
  "metadata": {
    "colab": {
      "name": "How to handle missing Values in Categorical Features.ipynb",
      "provenance": [],
      "authorship_tag": "ABX9TyNnNQ8a7jXT40ALl/9oFmR8",
      "include_colab_link": true
    },
    "kernelspec": {
      "name": "python3",
      "display_name": "Python 3"
    },
    "language_info": {
      "name": "python"
    }
  },
  "cells": [
    {
      "cell_type": "markdown",
      "metadata": {
        "id": "view-in-github",
        "colab_type": "text"
      },
      "source": [
        "<a href=\"https://colab.research.google.com/github/LOVELYVD/Feature-Engineering/blob/main/How_to_handle_missing_Values_in_Categorical_Features.ipynb\" target=\"_parent\"><img src=\"https://colab.research.google.com/assets/colab-badge.svg\" alt=\"Open In Colab\"/></a>"
      ]
    },
    {
      "cell_type": "markdown",
      "source": [
        "1.**Delete the rows**\n",
        "\n",
        "smaller no of dataset illo enghil dont delete\n",
        "\n",
        "classification affect cheyyannna data aannel dont delete\n",
        "\n",
        "2.**Replace with most frequent values**\n",
        "\n",
        "Imbalanced data set problem arise within categories nad not wrt output\n",
        "\n",
        "3.**Appply classifier algo to predict the missing value**\n",
        "\n",
        "misisng value illa columns(test dataset aakugha) take as output dependent feature.baakillutahe train dataset\n",
        "\n",
        "baaki column is independent feature\n",
        "\n",
        "\n",
        "knn or any apply cheyaam as classifier algo\n",
        "\n",
        "4.**Apply Unsupervised ML**\n",
        "\n",
        "Clustering\n",
        "\n",
        "K means clustering or hyper mean clustering\n",
        "\n",
        "skip  the missing value illa column wholly\n",
        "\n",
        "baaki f2 f3 okke grouping kodukugha\n",
        "\n",
        "ex:2 categories in missing columns aannel , group all othre features into 2 groups and based on that missing value kodughugha\n",
        "\n",
        "\n"
      ],
      "metadata": {
        "id": "bF2Yneh2dHpf"
      }
    }
  ]
}