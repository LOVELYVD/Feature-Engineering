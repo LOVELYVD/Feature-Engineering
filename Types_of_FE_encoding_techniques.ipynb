{
  "nbformat": 4,
  "nbformat_minor": 0,
  "metadata": {
    "colab": {
      "name": "Types of FE encoding techniques.ipynb",
      "provenance": [],
      "authorship_tag": "ABX9TyNxKhRbqu6/Ml2+5kR5ZrA+",
      "include_colab_link": true
    },
    "kernelspec": {
      "name": "python3",
      "display_name": "Python 3"
    },
    "language_info": {
      "name": "python"
    }
  },
  "cells": [
    {
      "cell_type": "markdown",
      "metadata": {
        "id": "view-in-github",
        "colab_type": "text"
      },
      "source": [
        "<a href=\"https://colab.research.google.com/github/LOVELYVD/Feature-Engineering/blob/main/Types_of_FE_encoding_techniques.ipynb\" target=\"_parent\"><img src=\"https://colab.research.google.com/assets/colab-badge.svg\" alt=\"Open In Colab\"/></a>"
      ]
    },
    {
      "cell_type": "markdown",
      "source": [
        "# **Encoding Techniques**\n",
        "\n",
        "**1.Nominal Encoding**\n",
        "\n",
        "**2.Ordinal encoding**"
      ],
      "metadata": {
        "id": "eIKyvp6WMw2_"
      }
    },
    {
      "cell_type": "markdown",
      "source": [
        "# **Categorical Variables**\n",
        "\n",
        "1. Nominal-arrangement is not imp.example:M F\n",
        "\n",
        "2. Ordinal -Rank is important.Arrangement is imp"
      ],
      "metadata": {
        "id": "SGAmy-akM9es"
      }
    },
    {
      "cell_type": "markdown",
      "source": [
        "# **Nominal Encoding**\n",
        "\n",
        "1.**One Hot Encoding**\n",
        "\n",
        "2.**One hot encoding with many categorical variables**\n",
        "\n",
        "3.**Mean Encoding**"
      ],
      "metadata": {
        "id": "3FjhybvKNmQu"
      }
    },
    {
      "cell_type": "markdown",
      "source": [
        "# **Ordinal encoding**\n",
        "\n",
        "1.**Label Encoding**\n",
        "\n",
        "2.**Target guided ordinal encoding [wrt output]**"
      ],
      "metadata": {
        "id": "nbbwuJ7RN0Wq"
      }
    },
    {
      "cell_type": "markdown",
      "source": [
        "# **One Hot Encoding**\n",
        "\n",
        "Dummy variable trap\n",
        "\n",
        "Curse of dimensionality(column size matters)"
      ],
      "metadata": {
        "id": "7yny0tDNOEKQ"
      }
    },
    {
      "cell_type": "markdown",
      "source": [
        "# **Target guided ordinal encoding**\n",
        "\n",
        "1.mean of repeatitions of a category\n",
        "\n",
        "2.provide rank wrt mean\n",
        "\n",
        "3.That rank will be the label to compute ML algo"
      ],
      "metadata": {
        "id": "4ueqdVcuQAgO"
      }
    },
    {
      "cell_type": "markdown",
      "source": [
        "# **Mean Encoding**\n",
        "\n",
        "find mean based on output\n",
        "\n",
        "replace categories with that mean (a floating point)\n",
        "\n",
        "\n",
        "pincodes"
      ],
      "metadata": {
        "id": "II-wWCCERCtm"
      }
    }
  ]
}